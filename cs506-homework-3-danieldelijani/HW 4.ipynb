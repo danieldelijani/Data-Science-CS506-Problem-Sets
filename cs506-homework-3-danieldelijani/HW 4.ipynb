{
 "cells": [
  {
   "cell_type": "markdown",
   "id": "corporate-activation",
   "metadata": {},
   "source": [
    "# HW 4"
   ]
  },
  {
   "cell_type": "code",
   "execution_count": 101,
   "id": "electronic-south",
   "metadata": {},
   "outputs": [],
   "source": [
    "import networkx as nx\n",
    "import pandas as pd\n",
    "import matplotlib.pyplot as plt\n",
    "import math"
   ]
  },
  {
   "cell_type": "markdown",
   "id": "micro-adventure",
   "metadata": {},
   "source": [
    "## Part A"
   ]
  },
  {
   "cell_type": "code",
   "execution_count": 102,
   "id": "subtle-locking",
   "metadata": {},
   "outputs": [],
   "source": [
    "def creategraphfromtsv_old(filename):\n",
    "    df = pd.read_csv(filename, sep='\\t', names = ['source', 'target'])\n",
    "    graph = nx.convert_matrix.from_pandas_edgelist(df)\n",
    "    return graph"
   ]
  },
  {
   "cell_type": "code",
   "execution_count": 103,
   "id": "changing-construction",
   "metadata": {
    "scrolled": true
   },
   "outputs": [
    {
     "data": {
      "text/plain": [
       "<networkx.classes.graph.Graph at 0x7f8f758f2bd0>"
      ]
     },
     "execution_count": 103,
     "metadata": {},
     "output_type": "execute_result"
    }
   ],
   "source": [
    "G_old = creategraphfromtsv_old('old_edges.txt')\n",
    "\n",
    "G_old"
   ]
  },
  {
   "cell_type": "markdown",
   "id": "adopted-router",
   "metadata": {},
   "source": [
    "## Part B"
   ]
  },
  {
   "cell_type": "code",
   "execution_count": 118,
   "id": "enabling-parallel",
   "metadata": {},
   "outputs": [],
   "source": [
    "def creategraphfromtsv_new(filename):\n",
    "    df = pd.read_csv(filename, sep='\\t', names = ['source', 'target'])\n",
    "    graph = nx.convert_matrix.from_pandas_edgelist(df) \n",
    "    atleast10 = [node for node,degree in dict(graph.degree()).items() if degree >= 10]\n",
    "    \n",
    "    return graph, atleast10"
   ]
  },
  {
   "cell_type": "code",
   "execution_count": 119,
   "id": "wanted-uncle",
   "metadata": {},
   "outputs": [
    {
     "data": {
      "text/plain": [
       "<networkx.classes.graph.Graph at 0x7f8f772c4a10>"
      ]
     },
     "execution_count": 119,
     "metadata": {},
     "output_type": "execute_result"
    }
   ],
   "source": [
    "G_new, atleast10 = creategraphfromtsv_new('new_edges.txt')\n",
    "\n",
    "G_new"
   ]
  },
  {
   "cell_type": "markdown",
   "id": "motivated-murray",
   "metadata": {},
   "source": [
    "## Part C - Common Friends"
   ]
  },
  {
   "cell_type": "code",
   "execution_count": 120,
   "id": "tender-evidence",
   "metadata": {},
   "outputs": [
    {
     "data": {
      "text/plain": [
       "['Antoine Bordes',\n",
       " 'Asma Rabaoui',\n",
       " 'Emmanuel Duflos',\n",
       " 'Eric P. Xing',\n",
       " 'Michael I. Jordan',\n",
       " 'François Laviolette',\n",
       " 'Mario Marchand',\n",
       " 'Sara Shanian',\n",
       " 'Milan Vojnovic',\n",
       " 'Mohammad Ghavamzadeh',\n",
       " 'Martin Jaggi',\n",
       " 'Chengtao Li',\n",
       " 'David M. Mimno',\n",
       " 'Perry R. Cook',\n",
       " 'Zaïd Harchaoui']"
      ]
     },
     "execution_count": 120,
     "metadata": {},
     "output_type": "execute_result"
    }
   ],
   "source": [
    "def numcommonfriends(G, x1, x2):\n",
    "    n1 = set(G.neighbors(x1))\n",
    "    n2 = set(G.neighbors(x2))\n",
    "    \n",
    "    intersection = n2.intersection(n1)\n",
    "    \n",
    "    return len(intersection)\n",
    "\n",
    "def common_friends_number(G, X):\n",
    "    recs = {i:0 for i in G.nodes}\n",
    "    del recs[X]\n",
    "    for author in recs:\n",
    "        if not G.has_edge(X, author): # if they are not already friends\n",
    "            recs[author] = numcommonfriends(G, X, author)\n",
    "        else:\n",
    "            recs[author] = -1 # if they are friends, assign -1 so can remove it\n",
    "    \n",
    "    recs = {key:val for key, val in recs.items() if val != -1}\n",
    "        \n",
    "    sortedrecs = {k: v for k, v in sorted(recs.items(), key=lambda item: item[1], reverse=True)}\n",
    "    sortedrecslist = list(sortedrecs.keys())\n",
    "    return sortedrecslist, sortedrecs\n",
    "\n",
    "recs, dicts = common_friends_number(G_old, 'Francis R. Bach')\n",
    "recs[:15]"
   ]
  },
  {
   "cell_type": "markdown",
   "id": "controlling-offset",
   "metadata": {},
   "source": [
    "## Part D - Jaccard's Index"
   ]
  },
  {
   "cell_type": "code",
   "execution_count": 121,
   "id": "adjusted-kennedy",
   "metadata": {},
   "outputs": [
    {
     "data": {
      "text/plain": [
       "['Asma Rabaoui',\n",
       " 'Emmanuel Duflos',\n",
       " 'Antoine Bordes',\n",
       " 'Perry R. Cook',\n",
       " 'Guillaume Bourque',\n",
       " 'Sara Shanian',\n",
       " 'Chengtao Li',\n",
       " 'Stephan Mandt',\n",
       " 'Patrick Pletscher',\n",
       " 'Milan Vojnovic',\n",
       " 'Samuel Gershman',\n",
       " 'Justin Solomon',\n",
       " 'Hyun Oh Song',\n",
       " 'Zaïd Harchaoui',\n",
       " 'Mario Marchand']"
      ]
     },
     "execution_count": 121,
     "metadata": {},
     "output_type": "execute_result"
    }
   ],
   "source": [
    "def jaccard_index(G, X):\n",
    "    recs = {i:0 for i in G.nodes}\n",
    "    del recs[X]\n",
    "    \n",
    "    for author in recs:\n",
    "        if not G.has_edge(X, author): # if they are not already friends\n",
    "            listt = nx.jaccard_coefficient(G, [(X, author)])\n",
    "            for u, v, i in listt:\n",
    "                recs[author] = i\n",
    "        else:\n",
    "            recs[author] = -1 # if they are friends, assign -1 so can remove it\n",
    "            \n",
    "    recs = {key:val for key, val in recs.items() if val != -1}\n",
    "        \n",
    "    sortedrecs = {k: v for k, v in sorted(recs.items(), key=lambda item: item[1], reverse=True)}\n",
    "    sortedrecslist = list(sortedrecs.keys())\n",
    "    return sortedrecslist, sortedrecs\n",
    "\n",
    "recs, dicts = jaccard_index(G_old, 'Francis R. Bach')\n",
    "recs[:15]"
   ]
  },
  {
   "cell_type": "markdown",
   "id": "upset-prisoner",
   "metadata": {},
   "source": [
    "## Part E - Adamic/Adar Index"
   ]
  },
  {
   "cell_type": "code",
   "execution_count": 122,
   "id": "regulated-brief",
   "metadata": {},
   "outputs": [
    {
     "data": {
      "text/plain": [
       "['Antoine Bordes',\n",
       " 'Asma Rabaoui',\n",
       " 'Emmanuel Duflos',\n",
       " 'Guillaume Bourque',\n",
       " 'Milan Vojnovic',\n",
       " 'François Laviolette',\n",
       " 'Mario Marchand',\n",
       " 'Sara Shanian',\n",
       " 'Mohammad Ghavamzadeh',\n",
       " 'Justin Solomon',\n",
       " 'Martin Jaggi',\n",
       " 'Patrick Pletscher',\n",
       " 'Justin Domke',\n",
       " 'Tibério S. Caetano',\n",
       " 'Yann LeCun']"
      ]
     },
     "execution_count": 122,
     "metadata": {},
     "output_type": "execute_result"
    }
   ],
   "source": [
    "def adamic_adar_index(G, X):\n",
    "    recs = {i:0 for i in G.nodes}\n",
    "    del recs[X]\n",
    "    \n",
    "    for author in recs:\n",
    "        if not G.has_edge(X, author): # if they are not already friends\n",
    "            listt = nx.adamic_adar_index(G, [(X, author)])\n",
    "            for u, v, i in listt:\n",
    "                recs[author] = i\n",
    "        else:\n",
    "            recs[author] = -1 # if they are friends, assign -1 so can remove it\n",
    "            \n",
    "    recs = {key:val for key, val in recs.items() if val != -1}\n",
    "        \n",
    "    sortedrecs = {k: v for k, v in sorted(recs.items(), key=lambda item: item[1], reverse=True)}\n",
    "    sortedrecslist = list(sortedrecs.keys())\n",
    "    return sortedrecslist, sortedrecs\n",
    "\n",
    "recs, dicts = adamic_adar_index(G_old, 'Francis R. Bach')\n",
    "recs[:15]"
   ]
  },
  {
   "cell_type": "markdown",
   "id": "laden-stewart",
   "metadata": {},
   "source": [
    "## Part F - Validation"
   ]
  },
  {
   "cell_type": "markdown",
   "id": "heard-elements",
   "metadata": {},
   "source": [
    "### 10 Recommendation Method"
   ]
  },
  {
   "cell_type": "code",
   "execution_count": 123,
   "id": "charged-scientist",
   "metadata": {},
   "outputs": [
    {
     "name": "stdout",
     "output_type": "stream",
     "text": [
      "Common Friends 10 Recs Efficiency: 1.1951219512195121\n",
      "Jaccards Index 10 Recs Efficiency: 0.8048780487804879\n",
      "Adamic/Adar 10 Recs Efficiency: 1.024390243902439\n"
     ]
    }
   ],
   "source": [
    "def val_10recs(recfunction, oldgraph, newgraph):\n",
    "    vals = []\n",
    "    for author in atleast10:      \n",
    "        recommendations, dicts = recfunction(oldgraph, author)\n",
    "        top10_recommendations = set(recommendations[:10])\n",
    "        newconnections = set(newgraph.neighbors(author)) \n",
    "        vals.append(len(top10_recommendations.intersection(newconnections)))\n",
    "        \n",
    "    avg = sum(vals) / len(vals)\n",
    "        \n",
    "    return avg\n",
    "\n",
    "commonfriends_efficiency = val_10recs(common_friends_number, G_old, G_new)\n",
    "jaccard_efficiency = val_10recs(jaccard_index, G_old, G_new)\n",
    "adamic_efficiency = val_10recs(adamic_adar_index, G_old, G_new)\n",
    "\n",
    "print('Common Friends 10 Recs Efficiency:', commonfriends_efficiency)\n",
    "print('Jaccards Index 10 Recs Efficiency:', jaccard_efficiency)\n",
    "print('Adamic/Adar 10 Recs Efficiency:', adamic_efficiency)"
   ]
  },
  {
   "cell_type": "markdown",
   "id": "wired-leonard",
   "metadata": {},
   "source": [
    "### Rank Method"
   ]
  },
  {
   "cell_type": "code",
   "execution_count": 124,
   "id": "portable-millennium",
   "metadata": {},
   "outputs": [
    {
     "name": "stdout",
     "output_type": "stream",
     "text": [
      "Common Friends Rank Efficiency: 1690.9830220713072\n",
      "Jaccards Index Rank Efficiency: 1696.93039049236\n",
      "Adamic/Adar Rank Efficiency: 1694.188455008489\n"
     ]
    }
   ],
   "source": [
    "def val_rank(recfunction, oldgraph, newgraph):\n",
    "    vals = []\n",
    "    \n",
    "    for author in atleast10:\n",
    "        recommendations, dicts = recfunction(oldgraph, author)\n",
    "        \n",
    "        for newconnection in newgraph.neighbors(author):\n",
    "            index = recommendations.index(newconnection)\n",
    "            vals.append(index)\n",
    "    \n",
    "    return sum(vals) / len(vals)\n",
    "        \n",
    "commonfriends_efficiency = val_rank(common_friends_number, G_old, G_new)\n",
    "jaccard_efficiency = val_rank(jaccard_index, G_old, G_new)\n",
    "adamic_efficiency = val_rank(adamic_adar_index, G_old, G_new)\n",
    "\n",
    "print('Common Friends Rank Efficiency:', commonfriends_efficiency)\n",
    "print('Jaccards Index Rank Efficiency:', jaccard_efficiency)\n",
    "print('Adamic/Adar Rank Efficiency:', adamic_efficiency)"
   ]
  },
  {
   "cell_type": "markdown",
   "id": "independent-enlargement",
   "metadata": {},
   "source": [
    "## Part E - Bonus"
   ]
  },
  {
   "cell_type": "markdown",
   "id": "greenhouse-circular",
   "metadata": {},
   "source": [
    "I felt as though the Adamic/Adar Index was a good metric for likely predicting correct recommendations. However, I figured why does the algorithm need to take the logarithm of the intersection of the number of neighbors? I felt as though simply summing up 1/neighbors(Z) would make more sense. So, I did some research to see if this metric exists. I eventually found that it does exist, and it is called the \"resource allocation index\". Thus, I impliment it below using the nx built in method to calculate it. Below that are its evaluation metrics."
   ]
  },
  {
   "cell_type": "code",
   "execution_count": 128,
   "id": "prepared-attempt",
   "metadata": {},
   "outputs": [
    {
     "data": {
      "text/plain": [
       "['Guillaume Bourque',\n",
       " 'Milan Vojnovic',\n",
       " 'Antoine Bordes',\n",
       " 'Asma Rabaoui',\n",
       " 'Emmanuel Duflos',\n",
       " 'François Laviolette',\n",
       " 'Mario Marchand',\n",
       " 'Sara Shanian',\n",
       " 'Mohammad Ghavamzadeh',\n",
       " 'Justin Domke',\n",
       " 'Tibério S. Caetano',\n",
       " 'Yann LeCun',\n",
       " 'Y-Lan Boureau',\n",
       " 'Justin Solomon',\n",
       " 'Andrew W. Fitzgibbon']"
      ]
     },
     "execution_count": 128,
     "metadata": {},
     "output_type": "execute_result"
    }
   ],
   "source": [
    "def bonus(G, X):\n",
    "    recs = {i:0 for i in G.nodes}\n",
    "    del recs[X]\n",
    "    \n",
    "    for author in recs:\n",
    "        if not G.has_edge(X, author): # if they are not already friends\n",
    "            listt = nx.resource_allocation_index(G, [(X, author)])\n",
    "            for u, v, i in listt:\n",
    "                recs[author] = i\n",
    "        else:\n",
    "            recs[author] = -1 # if they are friends, assign -1 so can remove it\n",
    "        \n",
    "    recs = {key:val for key, val in recs.items() if val != -1}\n",
    "    \n",
    "    sortedrecs = {k: v for k, v in sorted(recs.items(), key=lambda item: item[1], reverse=True)}\n",
    "    sortedrecslist = list(sortedrecs.keys())\n",
    "    return sortedrecslist, sortedrecs\n",
    "\n",
    "recs, dicts = bonus(G_old, 'Francis R. Bach')\n",
    "recs[:15]"
   ]
  },
  {
   "cell_type": "code",
   "execution_count": 129,
   "id": "relevant-remedy",
   "metadata": {},
   "outputs": [
    {
     "name": "stdout",
     "output_type": "stream",
     "text": [
      "Val 10 recs Efficiency: 0.7804878048780488\n",
      "Rank effiency: 1695.030560271647\n"
     ]
    }
   ],
   "source": [
    "tenrecsefficency = val_10recs(bonus, G_old, G_new)\n",
    "print('Val 10 recs Efficiency:', tenrecsefficency)\n",
    "\n",
    "ranksefficiency = val_rank(bonus, G_old, G_new)\n",
    "print('Rank effiency:', ranksefficiency)"
   ]
  },
  {
   "cell_type": "markdown",
   "id": "outdoor-houston",
   "metadata": {},
   "source": [
    "# Trash Below This"
   ]
  },
  {
   "cell_type": "code",
   "execution_count": 78,
   "id": "republican-flash",
   "metadata": {},
   "outputs": [
    {
     "data": {
      "text/plain": [
       "['Manabu Kimura',\n",
       " 'Tingting Zhao',\n",
       " 'Takafumi Kanamori',\n",
       " 'Tomoya Sakai',\n",
       " 'Yao Ma',\n",
       " 'Nan Du',\n",
       " 'Taiji Suzuki',\n",
       " 'Christopher Berlind',\n",
       " 'Yichen Wang',\n",
       " 'Ning Xie 0003',\n",
       " 'Vandana Kanchanapally',\n",
       " 'Yao Xie 0002',\n",
       " 'Steven Ehrlich',\n",
       " 'Emma Cohen',\n",
       " 'Kaushik Patnaik']"
      ]
     },
     "execution_count": 78,
     "metadata": {},
     "output_type": "execute_result"
    }
   ],
   "source": [
    "def calculateindex(G, x1, x2):    \n",
    "    n1 = set(G.neighbors(x1))\n",
    "    n2 = set(G.neighbors(x2))\n",
    "    \n",
    "    union = n1.union(n2)\n",
    "    intersection = n1.intersection(n2)\n",
    "    \n",
    "    return len(intersection) / len(union)\n",
    "\n",
    "def jaccard_index(G, X):\n",
    "    recs = {i:0 for i in G.nodes}\n",
    "    del recs[X]\n",
    "    \n",
    "    for author in recs:\n",
    "        if not G.has_edge(X, author): # if they are not already friends\n",
    "            recs[author] = calculateindex(G, X, author)\n",
    "        else:\n",
    "            recs[author] = -1 # if they are friends, assign -1 so can remove it\n",
    "            \n",
    "    recs = {key:val for key, val in recs.items() if val != -1}\n",
    "        \n",
    "    sortedrecs = {k: v for k, v in sorted(recs.items(), key=lambda item: item[1], reverse=True)}\n",
    "    sortedrecslist = list(sortedrecs.keys())\n",
    "    return sortedrecslist, sortedrecs\n",
    "\n",
    "recs, dicts = jaccard_index(G_old, 'Bo Dai')\n",
    "recs[:15]"
   ]
  },
  {
   "cell_type": "code",
   "execution_count": 79,
   "id": "particular-syria",
   "metadata": {},
   "outputs": [
    {
     "data": {
      "text/plain": [
       "['Nan Du',\n",
       " 'Takafumi Kanamori',\n",
       " 'Taiji Suzuki',\n",
       " 'Tomoya Sakai',\n",
       " 'Yao Ma',\n",
       " 'Manabu Kimura',\n",
       " 'Tingting Zhao',\n",
       " 'Yichen Wang',\n",
       " 'Shuang Li 0002',\n",
       " 'Yao Xie 0002',\n",
       " 'Christopher Berlind',\n",
       " 'Ichiro Takeuchi',\n",
       " 'Song Liu 0002',\n",
       " 'Steven Ehrlich',\n",
       " 'David P. Woodruff']"
      ]
     },
     "execution_count": 79,
     "metadata": {},
     "output_type": "execute_result"
    }
   ],
   "source": [
    "def calculate_adar_index(G, x1, x2):    \n",
    "    n1 = set(G.neighbors(x1))\n",
    "    n2 = set(G.neighbors(x2))\n",
    "    intersection = list(n1.intersection(n2))\n",
    "    \n",
    "    for i in range(len(intersection)):\n",
    "        numneighbors = len(list(G.neighbors(intersection[i])))\n",
    "        intersection[i] = 1 / (math.log(numneighbors))\n",
    "    \n",
    "    index = sum(intersection)\n",
    "    \n",
    "    return index\n",
    "\n",
    "def adamic_adar_index(G, X):\n",
    "    recs = {i:0 for i in G.nodes}\n",
    "    del recs[X]\n",
    "    \n",
    "    for author in recs:\n",
    "        if not G.has_edge(X, author): # if they are not already friends\n",
    "            recs[author] = calculate_adar_index(G, X, author)\n",
    "        else:\n",
    "            recs[author] = -1 # if they are friends, assign -1 so can remove it\n",
    "            \n",
    "    recs = {key:val for key, val in recs.items() if val != -1}\n",
    "        \n",
    "    sortedrecs = {k: v for k, v in sorted(recs.items(), key=lambda item: item[1], reverse=True)}\n",
    "    sortedrecslist = list(sortedrecs.keys())\n",
    "    return sortedrecslist, sortedrecs\n",
    "\n",
    "recs, dicts = adamic_adar_index(G_old, 'Bo Dai')\n",
    "recs[:15]"
   ]
  },
  {
   "cell_type": "code",
   "execution_count": 98,
   "id": "modular-hours",
   "metadata": {},
   "outputs": [
    {
     "name": "stdout",
     "output_type": "stream",
     "text": [
      "Common Friends 10 Recs Efficiency: 0.7804878048780488\n",
      "Jaccards Index 10 Recs Efficiency: 0.43902439024390244\n",
      "Adamic/Adar 10 Recs Efficiency: 0.6097560975609756\n"
     ]
    }
   ],
   "source": [
    "def val_10recs(recfunction, oldgraph, newgraph):\n",
    "    vals = []\n",
    "    for author in newgraph.nodes:      \n",
    "        recommendations, dicts = recfunction(oldgraph, author)\n",
    "        top10_recommendations = recommendations[:10]\n",
    "        correct = 0\n",
    "        for x in top10_recommendations:\n",
    "            if newgraph.has_edge(author, x):\n",
    "                correct += 1\n",
    "        vals.append(correct)\n",
    "    \n",
    "    avg = sum(vals) / len(vals)\n",
    "        \n",
    "    return avg\n",
    "\n",
    "commonfriends_efficiency = val_10recs(common_friends_number, G_old, G_new)\n",
    "jaccard_efficiency = val_10recs(jaccard_index, G_old, G_new)\n",
    "adamic_efficiency = val_10recs(adamic_adar_index, G_old, G_new)\n",
    "\n",
    "print('Common Friends 10 Recs Efficiency:', commonfriends_efficiency)\n",
    "print('Jaccards Index 10 Recs Efficiency:', jaccard_efficiency)\n",
    "print('Adamic/Adar 10 Recs Efficiency:', adamic_efficiency)"
   ]
  }
 ],
 "metadata": {
  "kernelspec": {
   "display_name": "Python 3",
   "language": "python",
   "name": "python3"
  },
  "language_info": {
   "codemirror_mode": {
    "name": "ipython",
    "version": 3
   },
   "file_extension": ".py",
   "mimetype": "text/x-python",
   "name": "python",
   "nbconvert_exporter": "python",
   "pygments_lexer": "ipython3",
   "version": "3.7.4"
  }
 },
 "nbformat": 4,
 "nbformat_minor": 5
}
