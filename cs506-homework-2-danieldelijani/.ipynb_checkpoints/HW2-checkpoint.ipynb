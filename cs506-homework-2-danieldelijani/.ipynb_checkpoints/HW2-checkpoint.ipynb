{
 "cells": [
  {
   "cell_type": "markdown",
   "id": "mental-classics",
   "metadata": {},
   "source": [
    "# Homework 2 File"
   ]
  },
  {
   "cell_type": "code",
   "execution_count": 289,
   "id": "detailed-bacteria",
   "metadata": {},
   "outputs": [],
   "source": [
    "import random\n",
    "import matplotlib.pyplot as plt\n",
    "from sklearn import linear_model\n",
    "import numpy as np\n",
    "from sklearn.model_selection import train_test_split\n",
    "from sklearn.neighbors import KNeighborsClassifier\n",
    "from sklearn.pipeline import make_pipeline\n",
    "from sklearn.preprocessing import StandardScaler\n",
    "from sklearn.decomposition import PCA\n",
    "import time"
   ]
  },
  {
   "cell_type": "markdown",
   "id": "social-transparency",
   "metadata": {},
   "source": [
    "## Question 1 - Least Squares and Logistic Regression"
   ]
  },
  {
   "cell_type": "markdown",
   "id": "single-equation",
   "metadata": {},
   "source": [
    "### Part A"
   ]
  },
  {
   "cell_type": "code",
   "execution_count": 78,
   "id": "assumed-george",
   "metadata": {},
   "outputs": [
    {
     "name": "stdout",
     "output_type": "stream",
     "text": [
      "50 50\n"
     ]
    }
   ],
   "source": [
    "xvalsx = []\n",
    "for x in range(50):\n",
    "    xvalsx += [random.uniform(-4, 4)]\n",
    "    \n",
    "yvalsx = [0] * len(xvals)\n",
    "for i in range(len(xvals)):\n",
    "    yvalsx[i] += xvalsx[i] + random.uniform(0, 3)\n",
    "\n",
    "print(len(xvalsx), len(yvalsx))"
   ]
  },
  {
   "cell_type": "code",
   "execution_count": 79,
   "id": "according-arrangement",
   "metadata": {},
   "outputs": [
    {
     "name": "stdout",
     "output_type": "stream",
     "text": [
      "50 50\n"
     ]
    }
   ],
   "source": [
    "xvalso = []\n",
    "for x in range(50):\n",
    "    xvalso += [random.uniform(-4, 4)]\n",
    "\n",
    "yvalso = [0] * len(xvalso)\n",
    "for i in range(len(xvalso)):\n",
    "    yvalso[i] += xvalso[i] - random.uniform(0, 3)\n",
    "    \n",
    "print(len(xvalso), len(yvalso))"
   ]
  },
  {
   "cell_type": "code",
   "execution_count": 80,
   "id": "bright-birthday",
   "metadata": {},
   "outputs": [
    {
     "data": {
      "image/png": "[encoded data removed]",
      "text/plain": [
       "<Figure size 432x288 with 1 Axes>"
      ]
     },
     "metadata": {
      "needs_background": "light"
     },
     "output_type": "display_data"
    }
   ],
   "source": [
    "plt.scatter(xvalsx,yvalsx,color='red')\n",
    "plt.scatter(xvalso,yvalso,color='blue')\n",
    "plt.xlim([-4, 8])\n",
    "plt.ylim([-8, 4])\n",
    "plt.show()"
   ]
  },
  {
   "cell_type": "code",
   "execution_count": 81,
   "id": "individual-administrator",
   "metadata": {},
   "outputs": [],
   "source": [
    "xvalsoutlier = []\n",
    "for x in range(10):\n",
    "    xvalsoutlier += [random.uniform(6, 8)]\n",
    "    \n",
    "yvalsoutlier = [0] * len(xvalsoutlier)\n",
    "for i in range(len(xvalsoutlier)):\n",
    "    yvalsoutlier[i] += xvalsx[i] - random.uniform(9, 12)"
   ]
  },
  {
   "cell_type": "code",
   "execution_count": 85,
   "id": "acute-exclusion",
   "metadata": {
    "scrolled": true
   },
   "outputs": [
    {
     "data": {
      "image/png": "[encoded data removed]",
      "text/plain": [
       "<Figure size 432x288 with 1 Axes>"
      ]
     },
     "metadata": {
      "needs_background": "light"
     },
     "output_type": "display_data"
    }
   ],
   "source": [
    "plt.scatter(xvalsx, yvalsx, color='red')\n",
    "plt.scatter(xvalso  + xvalsoutlier, yvalso + yvalsoutlier, color='blue')\n",
    "plt.xlim([-4, 9])\n",
    "plt.ylim([-10, 4])\n",
    "plt.show()"
   ]
  },
  {
   "cell_type": "code",
   "execution_count": 104,
   "id": "prescription-breakfast",
   "metadata": {},
   "outputs": [
    {
     "name": "stdout",
     "output_type": "stream",
     "text": [
      "[0, 0, 0, 0, 0, 0, 0, 0, 0, 0, 0, 0, 0, 0, 0, 0, 0, 0, 0, 0, 0, 0, 0, 0, 0, 0, 0, 0, 0, 0, 0, 0, 0, 0, 0, 0, 0, 0, 0, 0, 0, 0, 0, 0, 0, 0, 0, 0, 0, 0, 1, 1, 1, 1, 1, 1, 1, 1, 1, 1, 1, 1, 1, 1, 1, 1, 1, 1, 1, 1, 1, 1, 1, 1, 1, 1, 1, 1, 1, 1, 1, 1, 1, 1, 1, 1, 1, 1, 1, 1, 1, 1, 1, 1, 1, 1, 1, 1, 1, 1]\n",
      "(110, 2)\n",
      "(100, 2)\n"
     ]
    }
   ],
   "source": [
    "x1with_outlier = np.array(xvalsx + xvalso + xvalsoutlier)\n",
    "x2with_outlier = np.array(yvalsx + yvalso + yvalsoutlier)\n",
    "xvals_outlier = np.array([x1with_outlier] + [x2with_outlier]).T\n",
    "\n",
    "yvals_outlier = ([0] * len(xvalsx)) + ([1] * len(xvalso + xvalsoutlier))\n",
    "\n",
    "x1without_outlier = np.array(xvalsx + xvalso)\n",
    "x2without_outlier = np.array(yvalsx + yvalso)\n",
    "xvals_nooutlier = np.array([x1without_outlier] + [x2without_outlier]).T\n",
    "\n",
    "yvals_nooutlier = ([0] * len(xvalsx)) + ([1] * len(xvalso))\n",
    "\n",
    "print(xvals_outlier.shape)\n",
    "print(xvals_nooutlier.shape)"
   ]
  },
  {
   "cell_type": "markdown",
   "id": "invisible-robin",
   "metadata": {},
   "source": [
    "### Part B"
   ]
  },
  {
   "cell_type": "code",
   "execution_count": 132,
   "id": "logical-terrorist",
   "metadata": {},
   "outputs": [],
   "source": [
    "logistic_model_with_outlier = linear_model.LogisticRegression().fit(xvals_outlier, yvals_outlier)\n",
    "logistic_model_without_outlier = linear_model.LogisticRegression().fit(xvals_nooutlier, yvals_nooutlier)\n",
    "\n",
    "linear_model_with_outlier = linear_model.LinearRegression().fit(xvals_outlier, yvals_outlier)\n",
    "linear_model_without_outlier = linear_model.LinearRegression().fit(xvals_nooutlier, yvals_nooutlier)"
   ]
  },
  {
   "cell_type": "markdown",
   "id": "twelve-bouquet",
   "metadata": {},
   "source": [
    "### Part C"
   ]
  },
  {
   "cell_type": "code",
   "execution_count": 177,
   "id": "massive-shepherd",
   "metadata": {},
   "outputs": [
    {
     "data": {
      "image/png": "[encoded data removed]",
      "text/plain": [
       "<Figure size 432x288 with 1 Axes>"
      ]
     },
     "metadata": {
      "needs_background": "light"
     },
     "output_type": "display_data"
    }
   ],
   "source": [
    "plt.scatter(xvalsx,yvalsx,color='red')\n",
    "plt.scatter(xvalso,yvalso,color='blue')\n",
    "\n",
    "b = logistic_model_without_outlier.intercept_\n",
    "w1, w2 = logistic_model_without_outlier.coef_.T\n",
    "b = -b/w2\n",
    "m = -w1/w2\n",
    "\n",
    "x = np.linspace(-4, 8, 1000)\n",
    "plt.plot(x, m * x + c, color='green', label='Logistic Regression')\n",
    "\n",
    "b = linear_model_without_outlier.intercept_\n",
    "w1, w2 = linear_model_without_outlier.coef_.T\n",
    "b = -b/w2\n",
    "m = -w1/w2\n",
    "\n",
    "plt.plot(x, m * x + c, color='purple', label='Linear Regression')\n",
    "\n",
    "plt.legend(loc=\"upper left\")\n",
    "plt.xlim([-4, 8])\n",
    "plt.ylim([-8, 4])\n",
    "plt.title(\"Without Outliers\")\n",
    "plt.show()"
   ]
  },
  {
   "cell_type": "code",
   "execution_count": 178,
   "id": "prescribed-fraction",
   "metadata": {
    "scrolled": true
   },
   "outputs": [
    {
     "data": {
      "image/png": "[encoded data removed]",
      "text/plain": [
       "<Figure size 432x288 with 1 Axes>"
      ]
     },
     "metadata": {
      "needs_background": "light"
     },
     "output_type": "display_data"
    }
   ],
   "source": [
    "plt.scatter(xvalsx, yvalsx, color='red')\n",
    "plt.scatter(xvalso  + xvalsoutlier, yvalso + yvalsoutlier, color='blue')\n",
    "\n",
    "b = logistic_model_with_outlier.intercept_[0]\n",
    "w1, w2 = logistic_model_with_outlier.coef_.T\n",
    "b = -b/w2\n",
    "m = -w1/w2\n",
    "\n",
    "x = np.linspace(-4, 8, 1000)\n",
    "plt.plot(x, m * x + c, color='green', label='Logistic Regression')\n",
    "\n",
    "b = linear_model_with_outlier.intercept_\n",
    "w1, w2 = linear_model_with_outlier.coef_.T\n",
    "b = -b/w2\n",
    "m = -w1/w2\n",
    "\n",
    "plt.plot(x, m * x + c, color='purple', label='Linear Regression')\n",
    "\n",
    "plt.legend(loc=\"upper left\")\n",
    "plt.xlim([-4, 9])\n",
    "plt.ylim([-9, 4])\n",
    "plt.title(\"With Outliers\")\n",
    "plt.show()"
   ]
  },
  {
   "cell_type": "markdown",
   "id": "responsible-rendering",
   "metadata": {},
   "source": [
    "Why Logistic Regression is not sensitive to outliers: \n",
    "Logistic regression finds the estimate that minimizes its cost function, which is inverse logistic loss function, which does not place strong value (penalty) to outliers."
   ]
  },
  {
   "cell_type": "markdown",
   "id": "quarterly-outline",
   "metadata": {},
   "source": [
    "## Question 2 - Logistic Regression and kNN Classification"
   ]
  },
  {
   "cell_type": "code",
   "execution_count": 347,
   "id": "distant-auditor",
   "metadata": {},
   "outputs": [
    {
     "name": "stdout",
     "output_type": "stream",
     "text": [
      "(21000, 784) (21000,)\n"
     ]
    }
   ],
   "source": [
    "X = np.load(\"mnist_data.npy\")\n",
    "y = np.load(\"mnist_labels.npy\")\n",
    "print(X.shape, y.shape)"
   ]
  },
  {
   "cell_type": "markdown",
   "id": "legal-forest",
   "metadata": {},
   "source": [
    "### Part A"
   ]
  },
  {
   "cell_type": "code",
   "execution_count": 348,
   "id": "still-tragedy",
   "metadata": {},
   "outputs": [],
   "source": [
    "X_train, X_test, y_train, y_test = train_test_split(X, y, test_size=0.2, random_state=42)"
   ]
  },
  {
   "cell_type": "markdown",
   "id": "cross-poster",
   "metadata": {},
   "source": [
    "### Part B"
   ]
  },
  {
   "cell_type": "code",
   "execution_count": 349,
   "id": "based-beach",
   "metadata": {},
   "outputs": [
    {
     "name": "stderr",
     "output_type": "stream",
     "text": [
      "/opt/anaconda3/lib/python3.7/site-packages/sklearn/linear_model/_logistic.py:765: ConvergenceWarning: lbfgs failed to converge (status=1):\n",
      "STOP: TOTAL NO. of ITERATIONS REACHED LIMIT.\n",
      "\n",
      "Increase the number of iterations (max_iter) or scale the data as shown in:\n",
      "    https://scikit-learn.org/stable/modules/preprocessing.html\n",
      "Please also refer to the documentation for alternative solver options:\n",
      "    https://scikit-learn.org/stable/modules/linear_model.html#logistic-regression\n",
      "  extra_warning_msg=_LOGISTIC_SOLVER_CONVERGENCE_MSG)\n"
     ]
    }
   ],
   "source": [
    "logistic_model_mnist = linear_model.LogisticRegression(max_iter = 50).fit(X_train, y_train)"
   ]
  },
  {
   "cell_type": "code",
   "execution_count": 166,
   "id": "intermediate-burton",
   "metadata": {},
   "outputs": [
    {
     "name": "stdout",
     "output_type": "stream",
     "text": [
      "Train Accuracy: 0.9429761904761905\n",
      "Test Accuracy: 0.9130952380952381\n"
     ]
    }
   ],
   "source": [
    "print('Train Accuracy:', logistic_model_mnist.score(X_train, y_train))\n",
    "\n",
    "print('Test Accuracy:', logistic_model_mnist.score(X_test, y_test))"
   ]
  },
  {
   "cell_type": "markdown",
   "id": "native-logan",
   "metadata": {},
   "source": [
    "### Part C"
   ]
  },
  {
   "cell_type": "code",
   "execution_count": 175,
   "id": "burning-security",
   "metadata": {},
   "outputs": [],
   "source": [
    "trainaccuracy = []\n",
    "testaccuracy = []\n",
    "\n",
    "for i in range(1, 27, 2):\n",
    "    Knearest_model_mnist = KNeighborsClassifier(n_neighbors = i).fit(X_train, y_train)\n",
    "    trainaccuracy += [Knearest_model_mnist.score(X_train, y_train)]\n",
    "    testaccuracy += [Knearest_model_mnist.score(X_test, y_test)]"
   ]
  },
  {
   "cell_type": "code",
   "execution_count": 176,
   "id": "applicable-globe",
   "metadata": {
    "scrolled": true
   },
   "outputs": [
    {
     "data": {
      "image/png": "[encoded data removed]",
      "text/plain": [
       "<Figure size 432x288 with 1 Axes>"
      ]
     },
     "metadata": {
      "needs_background": "light"
     },
     "output_type": "display_data"
    }
   ],
   "source": [
    "plt.plot(range(1, 27, 2), trainaccuracy, color = 'blue', label = 'Train Accuracy')\n",
    "plt.plot(range(1, 27, 2), testaccuracy, color = 'green', label = 'Test Accuracy')\n",
    "plt.legend(loc=\"upper left\")\n",
    "plt.show()"
   ]
  },
  {
   "cell_type": "markdown",
   "id": "center-worker",
   "metadata": {},
   "source": [
    "Explained Results: It seems as though the less neighbors we use, the better the train and test accuracy becomes. This means that when each sample only considers its closest neighbor to classify itself, it does so best when only considering the other sample that is most similar to it"
   ]
  },
  {
   "cell_type": "code",
   "execution_count": 350,
   "id": "scientific-david",
   "metadata": {},
   "outputs": [],
   "source": [
    "trainaccuracy = []\n",
    "testaccuracy = []\n",
    "\n",
    "for n in range(3000, len(y), 3000):\n",
    "    X_train, X_test, y_train, y_test = train_test_split(X, y, train_size=n, random_state=42)\n",
    "    Knearest_model_mnist = KNeighborsClassifier(n_neighbors = 1).fit(X_train, y_train)\n",
    "    trainaccuracy += [Knearest_model_mnist.score(X_train, y_train)]\n",
    "    testaccuracy += [Knearest_model_mnist.score(X_test, y_test)]"
   ]
  },
  {
   "cell_type": "code",
   "execution_count": 351,
   "id": "virgin-worst",
   "metadata": {},
   "outputs": [
    {
     "data": {
      "image/png": "[encoded data removed]",
      "text/plain": [
       "<Figure size 432x288 with 1 Axes>"
      ]
     },
     "metadata": {
      "needs_background": "light"
     },
     "output_type": "display_data"
    }
   ],
   "source": [
    "plt.plot(range(3000, len(y), 3000), trainaccuracy, color = 'blue', label = 'Train Accuracy')\n",
    "plt.plot(range(3000, len(y), 3000), testaccuracy, color = 'green', label = 'Test Accuracy')\n",
    "plt.legend(loc=\"upper left\")\n",
    "plt.xlabel(\"Train size\")\n",
    "plt.ylabel(\"Accuracy\")\n",
    "plt.show()"
   ]
  },
  {
   "cell_type": "markdown",
   "id": "excited-gates",
   "metadata": {},
   "source": [
    "Give a few bullet points explaining the pros and cons of these algorithms and when and why we use logistic regression over linear regression:\n",
    "\n",
    "Logistic Regression:\n",
    "Pros:\n",
    "Easy to implement\n",
    "Easy to train\n",
    "It is very fast at classifying unknown records.\t\n",
    "\n",
    "Cons:\n",
    "If not enough data can very easily lead to overfitting\n",
    "Assumes linear boundary between classes\n",
    "\n",
    "\n",
    "Linear Regression:\n",
    "Pros:\n",
    "Easy to impliment\n",
    "Easy to interpret\n",
    "Far less complex than other algorithms\n",
    "\n",
    "Cons:\n",
    "Outliers can have huge effects on the boundaries\n",
    "Assumes linear boundary between classes\n",
    "\n",
    "\n",
    "Why we use logistic regression instead:\n",
    "The main benefit of using a logistic regression instead of linear regression is its durability to outliers, it helps strongly when classifying data that may contain such samples. \n"
   ]
  },
  {
   "cell_type": "markdown",
   "id": "broadband-cradle",
   "metadata": {},
   "source": [
    "## Question 3 - PCA - Dimensionality Reduction"
   ]
  },
  {
   "cell_type": "markdown",
   "id": "comprehensive-award",
   "metadata": {},
   "source": [
    "### Part A"
   ]
  },
  {
   "cell_type": "code",
   "execution_count": 352,
   "id": "pretty-speaker",
   "metadata": {
    "scrolled": true
   },
   "outputs": [],
   "source": [
    "X_train, X_test, y_train, y_test = train_test_split(X, y, test_size=.5, random_state=42)\n",
    "\n",
    "X_scaled = StandardScaler().fit_transform(X_train, y_train)\n",
    "\n",
    "pca = PCA().fit(X_scaled, y)"
   ]
  },
  {
   "cell_type": "markdown",
   "id": "finite-calcium",
   "metadata": {},
   "source": [
    "### Part B"
   ]
  },
  {
   "cell_type": "code",
   "execution_count": 353,
   "id": "atmospheric-change",
   "metadata": {},
   "outputs": [
    {
     "data": {
      "image/png": "[encoded data removed]",
      "text/plain": [
       "<Figure size 432x288 with 1 Axes>"
      ]
     },
     "metadata": {
      "needs_background": "light"
     },
     "output_type": "display_data"
    }
   ],
   "source": [
    "variance = pca.explained_variance_ratio_\n",
    "var=np.cumsum(np.round(variance, decimals=3))\n",
    "plt.plot(var)\n",
    "plt.title(\"CDF\")\n",
    "plt.xlabel(\"Number of Components\")\n",
    "plt.ylabel(\"% Variance Explained\")\n",
    "plt.show()"
   ]
  },
  {
   "cell_type": "markdown",
   "id": "breathing-thirty",
   "metadata": {},
   "source": [
    "### Part C"
   ]
  },
  {
   "cell_type": "markdown",
   "id": "dimensional-gibson",
   "metadata": {},
   "source": [
    "I am going to use 250 components, as it explains approximately 100% of the data and is still relatively small"
   ]
  },
  {
   "cell_type": "code",
   "execution_count": 354,
   "id": "chinese-iceland",
   "metadata": {
    "scrolled": true
   },
   "outputs": [
    {
     "name": "stdout",
     "output_type": "stream",
     "text": [
      "train accuracy: 1.0\n",
      "test accuracy: 0.9302857142857143\n"
     ]
    }
   ],
   "source": [
    "pca = make_pipeline(StandardScaler(),\n",
    "                    PCA(n_components=250))\n",
    "\n",
    "knn = KNeighborsClassifier(n_neighbors=1)\n",
    "\n",
    "pca.fit(X_train, y_train)\n",
    "knn.fit(pca.transform(X_train), y_train)\n",
    "\n",
    "print(\"train accuracy:\", knn.score(pca.transform(X_train), y_train))\n",
    "print(\"test accuracy:\", knn.score(pca.transform(X_test), y_test))"
   ]
  },
  {
   "cell_type": "markdown",
   "id": "frank-private",
   "metadata": {},
   "source": [
    "### Part D"
   ]
  },
  {
   "cell_type": "code",
   "execution_count": 355,
   "id": "intimate-subscription",
   "metadata": {},
   "outputs": [],
   "source": [
    "pca = make_pipeline(StandardScaler(),\n",
    "                    PCA(n_components=250))\n",
    "knn = KNeighborsClassifier(n_neighbors=1)\n",
    "\n",
    "runningtime_trainsize = []\n",
    "\n",
    "for n in range(3000, 21001, 3000):\n",
    "    if n == 21000:\n",
    "        X_train = X\n",
    "        y_train = y\n",
    "    else:\n",
    "        X_train, X_test, y_train, y_test = train_test_split(X, y, train_size=n, random_state=42)\n",
    "    \n",
    "    start_time = time.time()\n",
    "    pca.fit(X_train, y_train)\n",
    "    knn.fit(pca.transform(X_train), y_train)\n",
    "    end_time = time.time()\n",
    "    \n",
    "    timelength = end_time - start_time\n",
    "    runningtime_trainsize.append(timelength)"
   ]
  },
  {
   "cell_type": "code",
   "execution_count": 356,
   "id": "confident-protest",
   "metadata": {},
   "outputs": [],
   "source": [
    "runningtime_principalcomponents = []\n",
    "X_train = X\n",
    "y_train = y\n",
    "\n",
    "\n",
    "for n in range(50, 751, 100):\n",
    "    pca = make_pipeline(StandardScaler(),\n",
    "                    PCA(n_components=n))\n",
    "    knn = KNeighborsClassifier(n_neighbors=1)\n",
    "    \n",
    "    start_time = time.time()\n",
    "    pca.fit(X_train, y_train)\n",
    "    knn.fit(pca.transform(X_train), y_train)\n",
    "    end_time = time.time()\n",
    "    \n",
    "    timelength = end_time - start_time\n",
    "    runningtime_principalcomponents.append(timelength)"
   ]
  },
  {
   "cell_type": "code",
   "execution_count": 357,
   "id": "unauthorized-geography",
   "metadata": {
    "scrolled": true
   },
   "outputs": [
    {
     "data": {
      "image/png": "[encoded data removed]",
      "text/plain": [
       "<Figure size 432x288 with 1 Axes>"
      ]
     },
     "metadata": {
      "needs_background": "light"
     },
     "output_type": "display_data"
    }
   ],
   "source": [
    "plt.plot(range(3000, 21001, 3000), runningtime_trainsize, color = 'red', label = 'Trainsize')\n",
    "plt.plot(range(50, 751, 100), runningtime_principalcomponents, color = 'blue', label = 'Number of Principal Components')\n",
    "plt.title(\"How Runningtime Varies With Trainsize and Number of Principal Components\")\n",
    "plt.xlabel(\"Number of Principal Components or Train Size\")\n",
    "plt.ylabel(\"Running Time\")\n",
    "# plt.xlim([0, 1000)\n",
    "plt.legend()\n",
    "plt.show()"
   ]
  },
  {
   "cell_type": "markdown",
   "id": "otherwise-arabic",
   "metadata": {},
   "source": [
    "The Number of Principal Components (dimensions of the data) seems to affect the runningtime more than the trainsize (Number of samples used). Also, the number of principal components not having a directly linear correlation with runtime is interesting."
   ]
  },
  {
   "cell_type": "markdown",
   "id": "visible-humanity",
   "metadata": {},
   "source": [
    "### Part E"
   ]
  },
  {
   "cell_type": "markdown",
   "id": "french-berry",
   "metadata": {},
   "source": [
    "Parameters\n",
    "\n",
    "Fast Model: k = 1, train_size = 12000, n_components=650\n",
    "Accurate Model: k = 1, train_size = 18000, n_components=784"
   ]
  },
  {
   "cell_type": "code",
   "execution_count": 358,
   "id": "defined-bottom",
   "metadata": {},
   "outputs": [
    {
     "name": "stdout",
     "output_type": "stream",
     "text": [
      "Fast Model train accuracy: 1.0\n",
      "Fast Model test accuracy: 0.9292222222222222\n",
      "Fast Model time: 2.4371697902679443\n",
      "\n",
      "Most Accurate Model train accuracy: 1.0\n",
      "Most Accurate Model test accuracy: 0.9433333333333334\n",
      "Most Accurate Model time: 3.7350361347198486\n"
     ]
    }
   ],
   "source": [
    "starttime = time.time()\n",
    "\n",
    "X_train, X_test, y_train, y_test = train_test_split(X, y, train_size=12000, random_state=42)\n",
    "\n",
    "pca = make_pipeline(StandardScaler(),\n",
    "                    PCA(n_components=650))\n",
    "\n",
    "knn = KNeighborsClassifier(n_neighbors=1)\n",
    "\n",
    "pca.fit(X_train, y_train)\n",
    "knn.fit(pca.transform(X_train), y_train)\n",
    "endtime = time.time()\n",
    "\n",
    "time_ = endtime - starttime\n",
    "\n",
    "print(\"Fast Model train accuracy:\", knn.score(pca.transform(X_train), y_train))\n",
    "print(\"Fast Model test accuracy:\", knn.score(pca.transform(X_test), y_test))\n",
    "print(\"Fast Model time:\", time_)\n",
    "print()\n",
    "\n",
    "\n",
    "starttime = time.time()\n",
    "\n",
    "X_train, X_test, y_train, y_test = train_test_split(X, y, train_size=18000, random_state=42)\n",
    "\n",
    "pca = make_pipeline(StandardScaler(),\n",
    "                    PCA())\n",
    "\n",
    "knn = KNeighborsClassifier(n_neighbors=1)\n",
    "\n",
    "pca.fit(X_train, y_train)\n",
    "knn.fit(pca.transform(X_train), y_train)\n",
    "\n",
    "endtime = time.time()\n",
    "time_ = endtime - starttime\n",
    "\n",
    "print(\"Most Accurate Model train accuracy:\", knn.score(pca.transform(X_train), y_train))\n",
    "print(\"Most Accurate Model test accuracy:\", knn.score(pca.transform(X_test), y_test))\n",
    "print(\"Most Accurate Model time:\", time_)"
   ]
  },
  {
   "cell_type": "code",
   "execution_count": 359,
   "id": "smooth-qatar",
   "metadata": {},
   "outputs": [
    {
     "name": "stdout",
     "output_type": "stream",
     "text": [
      "Fast Model has 1.0x train accuracy\n",
      "Fast Model has 0.9850412249705535x test accuracy\n",
      "Fast Model has 0.6525157193561523x time\n"
     ]
    }
   ],
   "source": [
    "print('Fast Model has ' + str(1.0/1.0) + 'x train accuracy')\n",
    "print('Fast Model has ' + str(0.9292222222222222/0.9433333333333334) + 'x test accuracy')\n",
    "print('Fast Model has ' + str(2.4371697902679443/3.7350361347198486) + 'x time')"
   ]
  },
  {
   "cell_type": "markdown",
   "id": "adaptive-rates",
   "metadata": {},
   "source": [
    "### Part F"
   ]
  },
  {
   "cell_type": "code",
   "execution_count": 375,
   "id": "handmade-porter",
   "metadata": {},
   "outputs": [
    {
     "name": "stdout",
     "output_type": "stream",
     "text": [
      "(10, 784)\n"
     ]
    },
    {
     "data": {
      "image/png": "[encoded data removed]",
      "text/plain": [
       "<Figure size 1152x1152 with 10 Axes>"
      ]
     },
     "metadata": {},
     "output_type": "display_data"
    }
   ],
   "source": [
    "X_train, X_test, y_train, y_test = train_test_split(X, y, train_size=18000, random_state=42)\n",
    "\n",
    "scaled = StandardScaler().fit_transform(X_train, y_train)\n",
    "pca = PCA(n_components=10)\n",
    "pca.fit(scaled, y_train)\n",
    "components = pca.components_\n",
    "\n",
    "fig = plt.figure(figsize=(16,16))\n",
    "\n",
    "for i in range(10):\n",
    "    component = components[i]\n",
    "    reshaped = np.reshape(component, (28,28))\n",
    "    ax = fig.add_subplot(5, 5, i+1, xticks=[], yticks=[])\n",
    "    ax.imshow(reshaped, cmap=plt.cm.bone)"
   ]
  },
  {
   "cell_type": "code",
   "execution_count": null,
   "id": "convinced-corruption",
   "metadata": {},
   "outputs": [],
   "source": []
  }
 ],
 "metadata": {
  "kernelspec": {
   "display_name": "Python 3",
   "language": "python",
   "name": "python3"
  },
  "language_info": {
   "codemirror_mode": {
    "name": "ipython",
    "version": 3
   },
   "file_extension": ".py",
   "mimetype": "text/x-python",
   "name": "python",
   "nbconvert_exporter": "python",
   "pygments_lexer": "ipython3",
   "version": "3.7.4"
  }
 },
 "nbformat": 4,
 "nbformat_minor": 5
}
